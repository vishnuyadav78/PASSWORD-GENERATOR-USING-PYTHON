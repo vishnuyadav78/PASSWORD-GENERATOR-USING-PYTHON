{
 "cells": [
  {
   "cell_type": "code",
   "execution_count": null,
   "id": "772e5f1b-a7db-4b0b-882a-4132688ffad5",
   "metadata": {},
   "outputs": [],
   "source": [
    "import random\n",
    "import string\n",
    "import tkinter as tk\n",
    "from tkinter import messagebox\n",
    "\n",
    "def generate_password(length):\n",
    "    characters = string.ascii_letters + string.digits + string.punctuation\n",
    "    password = ''.join(random.choice(characters) for i in range(length))\n",
    "    return password\n",
    "\n",
    "def on_generate():\n",
    "    try:\n",
    "        length = int(entry.get())\n",
    "        if length <= 0:\n",
    "            raise ValueError(\"Length must be positive\")\n",
    "        password = generate_password(length)\n",
    "        result_label.config(text=f\"Generated Password: {password}\")\n",
    "    except ValueError as e:\n",
    "        messagebox.showerror(\"Invalid Input\", str(e))\n",
    "\n",
    "# Create the main window\n",
    "root = tk.Tk()\n",
    "root.title(\"Password Generator\")\n",
    "\n",
    "# Create and place the widgets with larger font\n",
    "font_large = (\"Arial\", 16)\n",
    "\n",
    "tk.Label(root, text=\"Enter password length:\", font=font_large).pack(pady=5)\n",
    "entry = tk.Entry(root, font=font_large)\n",
    "entry.pack(pady=5)\n",
    "\n",
    "generate_button = tk.Button(root, text=\"Generate Password\", font=font_large, command=on_generate)\n",
    "generate_button.pack(pady=5)\n",
    "\n",
    "result_label = tk.Label(root, text=\"\", font=font_large)\n",
    "result_label.pack(pady=5)\n",
    "\n",
    "# Run the application\n",
    "root.mainloop()\n"
   ]
  },
  {
   "cell_type": "code",
   "execution_count": null,
   "id": "cf5fd31e-d83b-479d-8a3b-ae461dfd6a3f",
   "metadata": {},
   "outputs": [],
   "source": []
  }
 ],
 "metadata": {
  "kernelspec": {
   "display_name": "Python 3 (ipykernel)",
   "language": "python",
   "name": "python3"
  },
  "language_info": {
   "codemirror_mode": {
    "name": "ipython",
    "version": 3
   },
   "file_extension": ".py",
   "mimetype": "text/x-python",
   "name": "python",
   "nbconvert_exporter": "python",
   "pygments_lexer": "ipython3",
   "version": "3.12.1"
  }
 },
 "nbformat": 4,
 "nbformat_minor": 5
}
